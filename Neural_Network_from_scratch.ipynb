{
  "cells": [
    {
      "cell_type": "markdown",
      "source": [
        "#**Importing Tools**"
      ],
      "metadata": {
        "id": "IlsA83pe2uG8"
      },
      "id": "IlsA83pe2uG8"
    },
    {
      "cell_type": "code",
      "source": [
        "import pandas as pd\n",
        "import numpy as np\n",
        "from matplotlib import pyplot as plt\n"
      ],
      "metadata": {
        "id": "VUJim5_P2qev"
      },
      "id": "VUJim5_P2qev",
      "execution_count": null,
      "outputs": []
    },
    {
      "cell_type": "markdown",
      "source": [
        "#**Data**"
      ],
      "metadata": {
        "id": "BnpkErgu3Rzp"
      },
      "id": "BnpkErgu3Rzp"
    },
    {
      "cell_type": "code",
      "source": [
        "data = pd.read_csv(\"/content/drive/MyDrive/kaggle/train.csv\")\n",
        "data = np.array(data)\n",
        "m,n = data.shape\n",
        "np.random.shuffle(data)\n",
        "\n",
        "data_train = data[1000:m].T\n",
        "Y = data_train[0]\n",
        "X = data_train[1:n]\n",
        "X = X / 255\n",
        "\n",
        "data_dev = data[0:1000].T\n",
        "Y_dev = data_dev[0]\n",
        "X_dev = data_dev[1:n]\n",
        "X_dev = X_dev / 255\n"
      ],
      "metadata": {
        "id": "f1FuD9zU7tM3"
      },
      "id": "f1FuD9zU7tM3",
      "execution_count": null,
      "outputs": []
    },
    {
      "cell_type": "markdown",
      "source": [
        "#**Functions for NN**"
      ],
      "metadata": {
        "id": "uj0f4_rF3YHp"
      },
      "id": "uj0f4_rF3YHp"
    },
    {
      "cell_type": "code",
      "outputs": [],
      "source": [
        "def init_params():\n",
        "  W1 = np.random.rand(16,784) -0.5\n",
        "  b1 = np.random.rand(16,1) -0.5\n",
        "  W2 = np.random.rand(16,16) -0.5\n",
        "  b2 = np.random.rand(16,1) -0.5\n",
        "  W3 = np.random.rand(10,16) -0.5\n",
        "  b3 = np.random.rand(10,1) -0.5\n",
        "  return W1,b1,W2,b2,W3,b3\n",
        "\n",
        "def ReLU(Z):\n",
        "  return np.maximum(Z,0)\n",
        "\n",
        "def softmax(Z):\n",
        "  A = np.exp(Z) / sum(np.exp(Z))\n",
        "  return A\n",
        "\n",
        "def forward_prop(W1, b1, W2, b2, W3, b3, X):\n",
        "  Z1 = W1.dot(X) + b1\n",
        "  A1 = ReLU(Z1)\n",
        "  Z2 = W2.dot(A1) + b2\n",
        "  A2 = ReLU(Z2)\n",
        "  Z3 = W3.dot(A2) + b3\n",
        "  A3 = softmax(Z3)\n",
        "  return Z1, A1, Z2, A2, Z3, A3\n",
        "\n",
        "def one_hot(Y):\n",
        "  one_hot_Y = np.zeros((Y.size, Y.max() + 1))\n",
        "  one_hot_Y[np.arange(Y.size),Y] = 1\n",
        "  one_hot_Y = one_hot_Y.T\n",
        "  return one_hot_Y\n",
        "\n",
        "def deriv_ReLU(Z):\n",
        "  return  Z > 0\n",
        "\n",
        "def back_prop(Z1, A1, Z2, A2, W2, Z3, A3, W3, X, Y):\n",
        "  m = Y.size\n",
        "  one_hot_Y = one_hot(Y)\n",
        "  dZ3 = A3 - one_hot_Y\n",
        "  dW3 = 1/m * dZ3.dot(A2.T)\n",
        "  db3 = 1/m * np.sum(dZ3)\n",
        "  dZ2 = W3.T.dot(dZ3) * deriv_ReLU(Z2)\n",
        "  dW2 = 1/m * dZ2.dot(A1.T)\n",
        "  db2 = 1/m * np.sum(dZ2)\n",
        "  dZ1 = W2.T.dot(dZ2) * deriv_ReLU(Z1)\n",
        "  dW1 = 1/m * dZ1.dot(X.T)\n",
        "  db1 = 1/m * np.sum(dZ1)\n",
        "  return db1, dW1, db2, dW2, db3, dW3\n",
        "\n",
        "def update_params(W1, b1, W2, b2, W3, b3, dW1, db1, dW2, db2, dW3, db3, alpha):\n",
        "  W1 = W1 - alpha * dW1\n",
        "  W2 = W2 - alpha * dW2\n",
        "  W3 = W3 - alpha * dW3\n",
        "  b1 = b1 - alpha * db1\n",
        "  b2 = b2 - alpha * db2\n",
        "  b3 = b3 - alpha * db3\n",
        "  return W1, b1, W2, b2, W3, b3"
      ],
      "metadata": {
        "id": "79307650d244d39f"
      },
      "id": "79307650d244d39f",
      "execution_count": null
    },
    {
      "cell_type": "markdown",
      "source": [
        "#**Gradient descent**"
      ],
      "metadata": {
        "id": "N9l10aBY3fR7"
      },
      "id": "N9l10aBY3fR7"
    },
    {
      "cell_type": "code",
      "source": [
        "def get_predictions(A):\n",
        "  return np.argmax(A, 0)\n",
        "\n",
        "def get_accuracy(Y_pred, Y_real):\n",
        "  return np.sum(Y_pred == Y_real) / Y_real.size\n",
        "\n",
        "def gradient_descent(X, Y, iterations, alpha):\n",
        "  W1, b1, W2, b2, W3, b3 = init_params()\n",
        "  for i in range(iterations):\n",
        "    Z1, A1, Z2, A2, Z3, A3 = forward_prop(W1, b1, W2, b2, W3, b3, X)\n",
        "    db1, dW1, db2, dW2, db3, dW3 = back_prop(Z1, A1, Z2, A2, W2, Z3, A3, W3, X, Y)\n",
        "    W1, b1, W2, b2, W3, b3 = update_params(W1, b1, W2, b2, W3, b3, dW1, db1, dW2, db2, dW3, db3, alpha)\n",
        "    if i % 200 == 0:\n",
        "      print(\"Iteration: \", i)\n",
        "      print(\"Accuracy: \", get_accuracy(get_predictions(A3),Y))\n",
        "  return W1, b1, W2, b2, W3, b3"
      ],
      "metadata": {
        "id": "4rgmpRIvQO0H"
      },
      "id": "4rgmpRIvQO0H",
      "execution_count": null,
      "outputs": []
    },
    {
      "cell_type": "markdown",
      "source": [
        "#**Building Neural Network**"
      ],
      "metadata": {
        "id": "Yhv-zGKF373D"
      },
      "id": "Yhv-zGKF373D"
    },
    {
      "cell_type": "code",
      "source": [
        "W1, b1, W2, b2, W3, b3 = gradient_descent(X, Y, 2001, 0.1)"
      ],
      "metadata": {
        "colab": {
          "base_uri": "https://localhost:8080/"
        },
        "id": "-V_1wsb1RvtV",
        "outputId": "b2cd39a6-de0e-4f22-826f-37d0a42bd035"
      },
      "id": "-V_1wsb1RvtV",
      "execution_count": null,
      "outputs": [
        {
          "output_type": "stream",
          "name": "stdout",
          "text": [
            "Iteration:  0\n",
            "[3 8 1 ... 8 3 8] [2 7 2 ... 4 8 5]\n",
            "Accuracy:  0.09392682926829268\n",
            "Iteration:  200\n",
            "[2 7 2 ... 4 8 5] [2 7 2 ... 4 8 5]\n",
            "Accuracy:  0.8084146341463415\n",
            "Iteration:  400\n",
            "[2 7 2 ... 4 8 5] [2 7 2 ... 4 8 5]\n",
            "Accuracy:  0.8638780487804878\n",
            "Iteration:  600\n",
            "[2 7 2 ... 4 8 5] [2 7 2 ... 4 8 5]\n",
            "Accuracy:  0.8821707317073171\n",
            "Iteration:  800\n",
            "[2 7 2 ... 4 8 5] [2 7 2 ... 4 8 5]\n",
            "Accuracy:  0.8934146341463415\n",
            "Iteration:  1000\n",
            "[2 7 2 ... 4 8 5] [2 7 2 ... 4 8 5]\n",
            "Accuracy:  0.9021463414634147\n",
            "Iteration:  1200\n",
            "[2 7 2 ... 4 8 5] [2 7 2 ... 4 8 5]\n",
            "Accuracy:  0.908\n",
            "Iteration:  1400\n",
            "[2 7 2 ... 4 8 5] [2 7 2 ... 4 8 5]\n",
            "Accuracy:  0.9134878048780488\n",
            "Iteration:  1600\n",
            "[2 7 2 ... 4 8 5] [2 7 2 ... 4 8 5]\n",
            "Accuracy:  0.9174878048780488\n",
            "Iteration:  1800\n",
            "[2 7 2 ... 4 8 5] [2 7 2 ... 4 8 5]\n",
            "Accuracy:  0.9213902439024391\n",
            "Iteration:  2000\n",
            "[2 7 2 ... 4 8 5] [2 7 2 ... 4 8 5]\n",
            "Accuracy:  0.9236585365853659\n"
          ]
        }
      ]
    },
    {
      "cell_type": "markdown",
      "source": [
        "#**Prediction functions**"
      ],
      "metadata": {
        "id": "Z4k9itK84Kos"
      },
      "id": "Z4k9itK84Kos"
    },
    {
      "cell_type": "code",
      "source": [
        "def make_predictions(X, W1, b1, W2, b2, W3, b3):\n",
        "  _, _, _, _, _, A3 = forward_prop(W1, b1, W2, b2, W3, b3, X)\n",
        "  predictions = get_predictions(A3)\n",
        "  return predictions\n",
        "\n",
        "def test_prediction(index, W1, b1, W2, b2, W3, b3):\n",
        "  current_image = X_dev[:, index, None]\n",
        "  prediction = make_predictions(X_dev[:, index, None], W1, b1, W2, b2, W3, b3)\n",
        "  label = Y_dev[index]\n",
        "  print(\"Prediction: \", prediction)\n",
        "  print(\"Label: \", label)\n",
        "\n",
        "  current_image = current_image.reshape((28, 28)) * 255\n",
        "  plt.imshow(current_image, interpolation='nearest')\n",
        "  plt.rcParams[\"figure.figsize\"] = (2,2)\n",
        "  plt.show()\n",
        "  plt.rcParams[\"figure.figsize\"] = (2,2)"
      ],
      "metadata": {
        "id": "DQ8TZI4nz-Xi"
      },
      "id": "DQ8TZI4nz-Xi",
      "execution_count": null,
      "outputs": []
    },
    {
      "cell_type": "markdown",
      "source": [
        "#**Single predictions**"
      ],
      "metadata": {
        "id": "VK8POgta4Oo0"
      },
      "id": "VK8POgta4Oo0"
    },
    {
      "cell_type": "code",
      "source": [
        "test_prediction(0, W1, b1, W2, b2, W3, b3)\n",
        "test_prediction(58, W1, b1, W2, b2, W3, b3)\n",
        "test_prediction(25, W1, b1, W2, b2, W3, b3)\n",
        "test_prediction(50, W1, b1, W2, b2, W3, b3)"
      ],
      "metadata": {
        "colab": {
          "base_uri": "https://localhost:8080/",
          "height": 956
        },
        "id": "gEgjSXKpdo5F",
        "outputId": "37c15136-b591-41fa-f407-0b63c00c56d5"
      },
      "id": "gEgjSXKpdo5F",
      "execution_count": null,
      "outputs": [
        {
          "output_type": "stream",
          "name": "stdout",
          "text": [
            "Prediction:  [7]\n",
            "Label:  7\n"
          ]
        },
        {
          "output_type": "display_data",
          "data": {
            "text/plain": [
              "<Figure size 200x200 with 1 Axes>"
            ],
            "image/png": "[encoded data removed]"
          },
          "metadata": {}
        },
        {
          "output_type": "stream",
          "name": "stdout",
          "text": [
            "Prediction:  [3]\n",
            "Label:  3\n"
          ]
        },
        {
          "output_type": "display_data",
          "data": {
            "text/plain": [
              "<Figure size 200x200 with 1 Axes>"
            ],
            "image/png": "[encoded data removed]"
          },
          "metadata": {}
        },
        {
          "output_type": "stream",
          "name": "stdout",
          "text": [
            "Prediction:  [2]\n",
            "Label:  2\n"
          ]
        },
        {
          "output_type": "display_data",
          "data": {
            "text/plain": [
              "<Figure size 200x200 with 1 Axes>"
            ],
            "image/png": "[encoded data removed]"
          },
          "metadata": {}
        },
        {
          "output_type": "stream",
          "name": "stdout",
          "text": [
            "Prediction:  [6]\n",
            "Label:  6\n"
          ]
        },
        {
          "output_type": "display_data",
          "data": {
            "text/plain": [
              "<Figure size 200x200 with 1 Axes>"
            ],
            "image/png": "[encoded data removed]"
          },
          "metadata": {}
        }
      ]
    },
    {
      "cell_type": "markdown",
      "source": [
        "#**Testing with new data**"
      ],
      "metadata": {
        "id": "jeI2g9Xt4Txk"
      },
      "id": "jeI2g9Xt4Txk"
    },
    {
      "cell_type": "code",
      "source": [
        "dev_predictions = make_predictions(X_dev, W1, b1, W2, b2, W3, b3)\n",
        "get_accuracy(dev_predictions, Y_dev)"
      ],
      "metadata": {
        "colab": {
          "base_uri": "https://localhost:8080/"
        },
        "id": "8czwYreltc1r",
        "outputId": "10b7fc78-ca14-4799-b1e5-829c959bc4ce"
      },
      "id": "8czwYreltc1r",
      "execution_count": null,
      "outputs": [
        {
          "output_type": "execute_result",
          "data": {
            "text/plain": [
              "0.91"
            ]
          },
          "metadata": {},
          "execution_count": 158
        }
      ]
    }
  ],
  "metadata": {
    "kernelspec": {
      "display_name": "Python 3",
      "language": "python",
      "name": "python3"
    },
    "language_info": {
      "codemirror_mode": {
        "name": "ipython",
        "version": 2
      },
      "file_extension": ".py",
      "mimetype": "text/x-python",
      "name": "python",
      "nbconvert_exporter": "python",
      "pygments_lexer": "ipython2",
      "version": "2.7.6"
    },
    "colab": {
      "provenance": []
    }
  },
  "nbformat": 4,
  "nbformat_minor": 5
}