{
  "nbformat": 4,
  "nbformat_minor": 0,
  "metadata": {
    "colab": {
      "provenance": [],
      "authorship_tag": "ABX9TyOGocp7XFKvLUjjmtRJZhVv"
    },
    "kernelspec": {
      "name": "python3",
      "display_name": "Python 3"
    },
    "language_info": {
      "name": "python"
    }
  },
  "cells": [
    {
      "cell_type": "markdown",
      "source": [
        "#**Importing tools**"
      ],
      "metadata": {
        "id": "7K_Tr3giHRfr"
      }
    },
    {
      "cell_type": "code",
      "source": [
        "import pandas as pd\n",
        "import numpy as np\n",
        "from tensorflow import keras\n",
        "from keras.layers import Dense, Conv2D, MaxPool2D, Flatten, Dropout\n",
        "from keras.models import Sequential, load_model\n",
        "from sklearn.metrics import accuracy_score"
      ],
      "metadata": {
        "id": "2H-JIvYDHVdt"
      },
      "execution_count": 1,
      "outputs": []
    },
    {
      "cell_type": "code",
      "source": [
        "from google.colab import drive\n",
        "drive.mount(\"/content/drive\")"
      ],
      "metadata": {
        "colab": {
          "base_uri": "https://localhost:8080/"
        },
        "id": "mpj07XSsH7t5",
        "outputId": "5f81a883-26e9-4759-e796-3a392bbd55d0"
      },
      "execution_count": 2,
      "outputs": [
        {
          "output_type": "stream",
          "name": "stdout",
          "text": [
            "Mounted at /content/drive\n"
          ]
        }
      ]
    },
    {
      "cell_type": "markdown",
      "source": [
        "#**Data**"
      ],
      "metadata": {
        "id": "fQaBbOuNRetA"
      }
    },
    {
      "cell_type": "code",
      "source": [
        "data = pd.read_csv(\"/content/drive/MyDrive/kaggle/MNIST_Dataset/train.csv\")\n",
        "data = np.array(data)\n",
        "m, n = data.shape\n",
        "np.random.shuffle(data)\n",
        "\n",
        "data_train = data[8400:m, :]\n",
        "Y_train = data_train[:,0]\n",
        "X_train = data_train[:,1:n]\n",
        "X_train = X_train.reshape(33600, 28, 28, 1)\n",
        "X_train = X_train / 255\n",
        "\n",
        "data_test = data[0:8400, :]\n",
        "Y_test = data_test[:,0]\n",
        "X_test = data_test[:,1:n]\n",
        "X_test = X_test.reshape(8400, 28, 28, 1)\n",
        "X_test = X_test / 255"
      ],
      "metadata": {
        "id": "VccreMz3IAk4"
      },
      "execution_count": 3,
      "outputs": []
    },
    {
      "cell_type": "markdown",
      "source": [
        "#**Building and compiling the model**"
      ],
      "metadata": {
        "id": "6MIC8Ie8RmFW"
      }
    },
    {
      "cell_type": "code",
      "source": [
        "model = Sequential()\n",
        "model.add(Conv2D(32, kernel_size = 5, activation = \"relu\", padding = \"same\", input_shape = (28, 28, 1)))\n",
        "model.add(MaxPool2D())\n",
        "model.add(Dropout(0.4))\n",
        "model.add(Conv2D(64, kernel_size = 5, activation = \"relu\", padding = \"same\",  input_shape = (14, 14, 32)))\n",
        "model.add(MaxPool2D())\n",
        "model.add(Dropout(0.4))\n",
        "model.add(Flatten())\n",
        "model.add(Dense(128, activation = \"relu\", input_dim = 7*7*64))\n",
        "model.add(Dropout(0.4))\n",
        "model.add(Dense(10, activation=\"softmax\"))\n",
        "model.summary()\n",
        "\n",
        "model.compile(optimizer=\"adam\", loss=\"sparse_categorical_crossentropy\", metrics=\"accuracy\")"
      ],
      "metadata": {
        "colab": {
          "base_uri": "https://localhost:8080/"
        },
        "id": "00pFJjprRpRE",
        "outputId": "a4cc3cee-5449-43a6-eaa2-afef6d52f6bc"
      },
      "execution_count": 4,
      "outputs": [
        {
          "output_type": "stream",
          "name": "stdout",
          "text": [
            "Model: \"sequential\"\n",
            "_________________________________________________________________\n",
            " Layer (type)                Output Shape              Param #   \n",
            "=================================================================\n",
            " conv2d (Conv2D)             (None, 28, 28, 32)        832       \n",
            "                                                                 \n",
            " max_pooling2d (MaxPooling2  (None, 14, 14, 32)        0         \n",
            " D)                                                              \n",
            "                                                                 \n",
            " dropout (Dropout)           (None, 14, 14, 32)        0         \n",
            "                                                                 \n",
            " conv2d_1 (Conv2D)           (None, 14, 14, 64)        51264     \n",
            "                                                                 \n",
            " max_pooling2d_1 (MaxPoolin  (None, 7, 7, 64)          0         \n",
            " g2D)                                                            \n",
            "                                                                 \n",
            " dropout_1 (Dropout)         (None, 7, 7, 64)          0         \n",
            "                                                                 \n",
            " flatten (Flatten)           (None, 3136)              0         \n",
            "                                                                 \n",
            " dense (Dense)               (None, 128)               401536    \n",
            "                                                                 \n",
            " dropout_2 (Dropout)         (None, 128)               0         \n",
            "                                                                 \n",
            " dense_1 (Dense)             (None, 10)                1290      \n",
            "                                                                 \n",
            "=================================================================\n",
            "Total params: 454922 (1.74 MB)\n",
            "Trainable params: 454922 (1.74 MB)\n",
            "Non-trainable params: 0 (0.00 Byte)\n",
            "_________________________________________________________________\n"
          ]
        }
      ]
    },
    {
      "cell_type": "markdown",
      "source": [
        "#**Training and testing the model**\n"
      ],
      "metadata": {
        "id": "g9N8la6JayrK"
      }
    },
    {
      "cell_type": "code",
      "source": [
        "model.fit(X_train, Y_train, epochs = 10, validation_data=(X_test, Y_test))"
      ],
      "metadata": {
        "colab": {
          "base_uri": "https://localhost:8080/"
        },
        "id": "rNj80mnVXD4A",
        "outputId": "f07f4636-cd0b-4f08-cc28-9bee37665546"
      },
      "execution_count": 5,
      "outputs": [
        {
          "output_type": "stream",
          "name": "stdout",
          "text": [
            "Epoch 1/10\n",
            "1050/1050 [==============================] - 94s 88ms/step - loss: 0.2869 - accuracy: 0.9101 - val_loss: 0.0563 - val_accuracy: 0.9846\n",
            "Epoch 2/10\n",
            "1050/1050 [==============================] - 96s 91ms/step - loss: 0.1044 - accuracy: 0.9679 - val_loss: 0.0541 - val_accuracy: 0.9832\n",
            "Epoch 3/10\n",
            "1050/1050 [==============================] - 98s 93ms/step - loss: 0.0815 - accuracy: 0.9744 - val_loss: 0.0362 - val_accuracy: 0.9893\n",
            "Epoch 4/10\n",
            "1050/1050 [==============================] - 93s 89ms/step - loss: 0.0666 - accuracy: 0.9793 - val_loss: 0.0313 - val_accuracy: 0.9907\n",
            "Epoch 5/10\n",
            "1050/1050 [==============================] - 90s 86ms/step - loss: 0.0623 - accuracy: 0.9811 - val_loss: 0.0268 - val_accuracy: 0.9913\n",
            "Epoch 6/10\n",
            "1050/1050 [==============================] - 93s 89ms/step - loss: 0.0540 - accuracy: 0.9839 - val_loss: 0.0322 - val_accuracy: 0.9899\n",
            "Epoch 7/10\n",
            "1050/1050 [==============================] - 90s 86ms/step - loss: 0.0506 - accuracy: 0.9848 - val_loss: 0.0298 - val_accuracy: 0.9917\n",
            "Epoch 8/10\n",
            "1050/1050 [==============================] - 97s 92ms/step - loss: 0.0468 - accuracy: 0.9849 - val_loss: 0.0268 - val_accuracy: 0.9918\n",
            "Epoch 9/10\n",
            "1050/1050 [==============================] - 92s 87ms/step - loss: 0.0430 - accuracy: 0.9858 - val_loss: 0.0264 - val_accuracy: 0.9917\n",
            "Epoch 10/10\n",
            "1050/1050 [==============================] - 91s 87ms/step - loss: 0.0407 - accuracy: 0.9870 - val_loss: 0.0217 - val_accuracy: 0.9936\n"
          ]
        },
        {
          "output_type": "execute_result",
          "data": {
            "text/plain": [
              "<keras.src.callbacks.History at 0x7c3f8b7e4940>"
            ]
          },
          "metadata": {},
          "execution_count": 5
        }
      ]
    },
    {
      "cell_type": "code",
      "source": [
        "Y_pred = model.predict(X_test)\n",
        "Y_pred = np.argmax(Y_pred, axis=1)\n",
        "accuracy_score(Y_test, Y_pred)"
      ],
      "metadata": {
        "colab": {
          "base_uri": "https://localhost:8080/"
        },
        "id": "qzHGjDWuXFvh",
        "outputId": "ccd44825-aab9-40c4-e461-12d633040d55"
      },
      "execution_count": 6,
      "outputs": [
        {
          "output_type": "stream",
          "name": "stdout",
          "text": [
            "263/263 [==============================] - 5s 20ms/step\n"
          ]
        },
        {
          "output_type": "execute_result",
          "data": {
            "text/plain": [
              "0.9935714285714285"
            ]
          },
          "metadata": {},
          "execution_count": 6
        }
      ]
    },
    {
      "cell_type": "markdown",
      "source": [
        "#**Saving the model**"
      ],
      "metadata": {
        "id": "PmqGEZj7bly8"
      }
    },
    {
      "cell_type": "code",
      "source": [
        "model.save(\"drive/MyDrive/Models/Digit_Recog_model_CNN\")"
      ],
      "metadata": {
        "id": "FEorc1k2bnfw"
      },
      "execution_count": 7,
      "outputs": []
    },
    {
      "cell_type": "code",
      "source": [
        "del model"
      ],
      "metadata": {
        "id": "svWoF1mXbsel"
      },
      "execution_count": 8,
      "outputs": []
    }
  ]
}