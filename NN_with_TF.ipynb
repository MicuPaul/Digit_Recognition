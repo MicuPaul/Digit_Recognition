{
  "nbformat": 4,
  "nbformat_minor": 0,
  "metadata": {
    "colab": {
      "provenance": [],
      "mount_file_id": "1W2zFKPoBa8F1fldrcWfDjsQhVQV22vJ4",
      "authorship_tag": "ABX9TyNCwzVZlYIumPrxZmW9vpsJ"
    },
    "kernelspec": {
      "name": "python3",
      "display_name": "Python 3"
    },
    "language_info": {
      "name": "python"
    }
  },
  "cells": [
    {
      "cell_type": "markdown",
      "source": [
        "#**Importing Tools**"
      ],
      "metadata": {
        "id": "JjZFdAa7kbl4"
      }
    },
    {
      "cell_type": "code",
      "source": [
        "import pandas as pd\n",
        "import numpy as np\n",
        "from tensorflow import keras\n",
        "from keras.layers import Dense\n",
        "from keras.models import Sequential, load_model\n",
        "from sklearn.metrics import accuracy_score\n",
        "from matplotlib import pyplot as plt"
      ],
      "metadata": {
        "id": "K9cJEB9-kgiq"
      },
      "execution_count": 46,
      "outputs": []
    },
    {
      "cell_type": "code",
      "source": [
        "from google.colab import drive\n",
        "drive.mount('/content/drive')"
      ],
      "metadata": {
        "colab": {
          "base_uri": "https://localhost:8080/"
        },
        "id": "-m3sWqw3m4Hd",
        "outputId": "96ae1a65-4b4c-44b6-a321-e4af18776fb1"
      },
      "execution_count": 7,
      "outputs": [
        {
          "output_type": "stream",
          "name": "stdout",
          "text": [
            "Drive already mounted at /content/drive; to attempt to forcibly remount, call drive.mount(\"/content/drive\", force_remount=True).\n"
          ]
        }
      ]
    },
    {
      "cell_type": "markdown",
      "source": [
        "#**Data**"
      ],
      "metadata": {
        "id": "Eei_xQVnkyVH"
      }
    },
    {
      "cell_type": "code",
      "source": [
        "data = pd.read_csv(\"/content/drive/MyDrive/kaggle/train.csv\")\n",
        "data = np.array(data)\n",
        "m, n = data.shape\n",
        "np.random.shuffle(data)\n",
        "\n",
        "data_train = data[8400:m, :]\n",
        "Y_train = data_train[:,0]\n",
        "X_train = data_train[:,1:n]\n",
        "X_train = X_train / 255\n",
        "\n",
        "data_test = data[0:8400, :]\n",
        "Y_test = data_test[:,0]\n",
        "X_test = data_test[:,1:n]\n",
        "X_test = X_test / 255"
      ],
      "metadata": {
        "id": "3zsFLMUxk1oJ"
      },
      "execution_count": 8,
      "outputs": []
    },
    {
      "cell_type": "markdown",
      "source": [
        "#**Building the Model**"
      ],
      "metadata": {
        "id": "7ynMZt-RpJIo"
      }
    },
    {
      "cell_type": "code",
      "source": [
        "model = Sequential()\n",
        "model.add(Dense(units = 128, activation = \"relu\", input_dim = len(X_train[0,:])))  #128 Neurons in the first hidden layer\n",
        "model.add(Dense(units = 128, activation = \"relu\"))                                 #128 Neurons in the second hidden layer\n",
        "model.add(Dense(units = 10, activation = \"softmax\"))                               #Output layer"
      ],
      "metadata": {
        "id": "AKcUYvF1lo8V"
      },
      "execution_count": 9,
      "outputs": []
    },
    {
      "cell_type": "code",
      "source": [
        "model.compile(optimizer=\"adam\", loss=\"sparse_categorical_crossentropy\", metrics=\"accuracy\")"
      ],
      "metadata": {
        "id": "rizIjEqGpSQd"
      },
      "execution_count": 10,
      "outputs": []
    },
    {
      "cell_type": "markdown",
      "source": [
        "#**Fit, Predict and Testing**"
      ],
      "metadata": {
        "id": "gU8SzDzQrWGJ"
      }
    },
    {
      "cell_type": "code",
      "source": [
        "model.summary()"
      ],
      "metadata": {
        "colab": {
          "base_uri": "https://localhost:8080/"
        },
        "id": "eYjO9Wwv81Fm",
        "outputId": "f8c184b5-b516-436d-ff8f-e18aa40d53d3"
      },
      "execution_count": 11,
      "outputs": [
        {
          "output_type": "stream",
          "name": "stdout",
          "text": [
            "Model: \"sequential\"\n",
            "_________________________________________________________________\n",
            " Layer (type)                Output Shape              Param #   \n",
            "=================================================================\n",
            " dense (Dense)               (None, 128)               100480    \n",
            "                                                                 \n",
            " dense_1 (Dense)             (None, 128)               16512     \n",
            "                                                                 \n",
            " dense_2 (Dense)             (None, 10)                1290      \n",
            "                                                                 \n",
            "=================================================================\n",
            "Total params: 118282 (462.04 KB)\n",
            "Trainable params: 118282 (462.04 KB)\n",
            "Non-trainable params: 0 (0.00 Byte)\n",
            "_________________________________________________________________\n"
          ]
        }
      ]
    },
    {
      "cell_type": "code",
      "source": [
        "model.fit(X_train, Y_train, epochs = 20)"
      ],
      "metadata": {
        "colab": {
          "base_uri": "https://localhost:8080/"
        },
        "id": "bUq4LvuQr6gR",
        "outputId": "6eac4ccd-db54-416d-9812-5c10b5776eb2"
      },
      "execution_count": 13,
      "outputs": [
        {
          "output_type": "stream",
          "name": "stdout",
          "text": [
            "Epoch 1/20\n",
            "1050/1050 [==============================] - 3s 3ms/step - loss: 0.0096 - accuracy: 0.9970\n",
            "Epoch 2/20\n",
            "1050/1050 [==============================] - 3s 3ms/step - loss: 0.0091 - accuracy: 0.9970\n",
            "Epoch 3/20\n",
            "1050/1050 [==============================] - 4s 4ms/step - loss: 0.0107 - accuracy: 0.9966\n",
            "Epoch 4/20\n",
            "1050/1050 [==============================] - 4s 4ms/step - loss: 0.0073 - accuracy: 0.9977\n",
            "Epoch 5/20\n",
            "1050/1050 [==============================] - 3s 3ms/step - loss: 0.0107 - accuracy: 0.9966\n",
            "Epoch 6/20\n",
            "1050/1050 [==============================] - 3s 3ms/step - loss: 0.0091 - accuracy: 0.9970\n",
            "Epoch 7/20\n",
            "1050/1050 [==============================] - 5s 5ms/step - loss: 0.0063 - accuracy: 0.9980\n",
            "Epoch 8/20\n",
            "1050/1050 [==============================] - 3s 3ms/step - loss: 0.0084 - accuracy: 0.9974\n",
            "Epoch 9/20\n",
            "1050/1050 [==============================] - 4s 4ms/step - loss: 0.0100 - accuracy: 0.9968\n",
            "Epoch 10/20\n",
            "1050/1050 [==============================] - 5s 5ms/step - loss: 0.0066 - accuracy: 0.9981\n",
            "Epoch 11/20\n",
            "1050/1050 [==============================] - 4s 4ms/step - loss: 0.0090 - accuracy: 0.9975\n",
            "Epoch 12/20\n",
            "1050/1050 [==============================] - 4s 4ms/step - loss: 0.0053 - accuracy: 0.9984\n",
            "Epoch 13/20\n",
            "1050/1050 [==============================] - 4s 4ms/step - loss: 0.0029 - accuracy: 0.9991\n",
            "Epoch 14/20\n",
            "1050/1050 [==============================] - 5s 5ms/step - loss: 0.0144 - accuracy: 0.9962\n",
            "Epoch 15/20\n",
            "1050/1050 [==============================] - 4s 3ms/step - loss: 0.0044 - accuracy: 0.9986\n",
            "Epoch 16/20\n",
            "1050/1050 [==============================] - 3s 3ms/step - loss: 0.0099 - accuracy: 0.9970\n",
            "Epoch 17/20\n",
            "1050/1050 [==============================] - 5s 4ms/step - loss: 0.0067 - accuracy: 0.9979\n",
            "Epoch 18/20\n",
            "1050/1050 [==============================] - 4s 4ms/step - loss: 0.0064 - accuracy: 0.9982\n",
            "Epoch 19/20\n",
            "1050/1050 [==============================] - 4s 3ms/step - loss: 0.0064 - accuracy: 0.9982\n",
            "Epoch 20/20\n",
            "1050/1050 [==============================] - 4s 3ms/step - loss: 0.0071 - accuracy: 0.9979\n"
          ]
        },
        {
          "output_type": "execute_result",
          "data": {
            "text/plain": [
              "<keras.src.callbacks.History at 0x7fa648f134f0>"
            ]
          },
          "metadata": {},
          "execution_count": 13
        }
      ]
    },
    {
      "cell_type": "code",
      "source": [
        "Y_pred = model.predict(X_test)\n",
        "Y_pred = np.argmax(Y_pred, axis=1)"
      ],
      "metadata": {
        "colab": {
          "base_uri": "https://localhost:8080/"
        },
        "id": "uYQ6bJA3tIrO",
        "outputId": "57b280dc-4f14-439d-8709-96bbc36aafc6"
      },
      "execution_count": 14,
      "outputs": [
        {
          "output_type": "stream",
          "name": "stdout",
          "text": [
            "263/263 [==============================] - 1s 2ms/step\n"
          ]
        }
      ]
    },
    {
      "cell_type": "code",
      "source": [
        "accuracy_score(Y_test, Y_pred)"
      ],
      "metadata": {
        "colab": {
          "base_uri": "https://localhost:8080/"
        },
        "id": "St6HirsU-Z7p",
        "outputId": "f6efa7a4-2338-475a-ac59-b1c568d32432"
      },
      "execution_count": 15,
      "outputs": [
        {
          "output_type": "execute_result",
          "data": {
            "text/plain": [
              "0.9770238095238095"
            ]
          },
          "metadata": {},
          "execution_count": 15
        }
      ]
    },
    {
      "cell_type": "code",
      "source": [
        "def make_predictions(X, NN):\n",
        "  A = NN.predict(X)\n",
        "  predictions = np.argmax(A[0])\n",
        "  return predictions\n",
        "\n",
        "def test_prediction(index, NN):\n",
        "  current_image = X_test[index, :]\n",
        "  prediction = make_predictions(X_test[index, :][np.newaxis,:], NN)\n",
        "  label = Y_test[index]\n",
        "  print(\"Prediction: \", prediction)\n",
        "  print(\"Label: \", label)\n",
        "\n",
        "  current_image = current_image.reshape((28, 28)) * 255\n",
        "  plt.imshow(current_image, interpolation='nearest')\n",
        "  plt.rcParams[\"figure.figsize\"] = (1,1)\n",
        "  plt.show()\n",
        "  plt.rcParams[\"figure.figsize\"] = (1,1)"
      ],
      "metadata": {
        "id": "wWr3iJqzF8H7"
      },
      "execution_count": 59,
      "outputs": []
    },
    {
      "cell_type": "code",
      "source": [
        "test_prediction(12, model)\n",
        "test_prediction(11, model)\n",
        "test_prediction(19, model)\n",
        "test_prediction(13, model)\n",
        "test_prediction(68, model)\n",
        "test_prediction(128, model)\n",
        "test_prediction(23, model)\n",
        "test_prediction(105, model)\n",
        "test_prediction(4, model)"
      ],
      "metadata": {
        "colab": {
          "base_uri": "https://localhost:8080/",
          "height": 1000
        },
        "id": "omsqWofkMR_C",
        "outputId": "2730c5ee-0dc9-447b-8cfd-a4d120047f58"
      },
      "execution_count": 61,
      "outputs": [
        {
          "output_type": "stream",
          "name": "stdout",
          "text": [
            "1/1 [==============================] - 0s 29ms/step\n",
            "Prediction:  8\n",
            "Label:  8\n"
          ]
        },
        {
          "output_type": "display_data",
          "data": {
            "text/plain": [
              "<Figure size 100x100 with 1 Axes>"
            ],
            "image/png": "[encoded data removed]"
          },
          "metadata": {}
        },
        {
          "output_type": "stream",
          "name": "stdout",
          "text": [
            "1/1 [==============================] - 0s 35ms/step\n",
            "Prediction:  6\n",
            "Label:  6\n"
          ]
        },
        {
          "output_type": "display_data",
          "data": {
            "text/plain": [
              "<Figure size 100x100 with 1 Axes>"
            ],
            "image/png": "[encoded data removed]"
          },
          "metadata": {}
        },
        {
          "output_type": "stream",
          "name": "stdout",
          "text": [
            "1/1 [==============================] - 0s 37ms/step\n",
            "Prediction:  3\n",
            "Label:  3\n"
          ]
        },
        {
          "output_type": "display_data",
          "data": {
            "text/plain": [
              "<Figure size 100x100 with 1 Axes>"
            ],
            "image/png": "[encoded data removed]"
          },
          "metadata": {}
        },
        {
          "output_type": "stream",
          "name": "stdout",
          "text": [
            "1/1 [==============================] - 0s 35ms/step\n",
            "Prediction:  9\n",
            "Label:  9\n"
          ]
        },
        {
          "output_type": "display_data",
          "data": {
            "text/plain": [
              "<Figure size 100x100 with 1 Axes>"
            ],
            "image/png": "[encoded data removed]"
          },
          "metadata": {}
        },
        {
          "output_type": "stream",
          "name": "stdout",
          "text": [
            "1/1 [==============================] - 0s 36ms/step\n",
            "Prediction:  4\n",
            "Label:  4\n"
          ]
        },
        {
          "output_type": "display_data",
          "data": {
            "text/plain": [
              "<Figure size 100x100 with 1 Axes>"
            ],
            "image/png": "[encoded data removed]"
          },
          "metadata": {}
        },
        {
          "output_type": "stream",
          "name": "stdout",
          "text": [
            "1/1 [==============================] - 0s 19ms/step\n",
            "Prediction:  1\n",
            "Label:  1\n"
          ]
        },
        {
          "output_type": "display_data",
          "data": {
            "text/plain": [
              "<Figure size 100x100 with 1 Axes>"
            ],
            "image/png": "[encoded data removed]"
          },
          "metadata": {}
        },
        {
          "output_type": "stream",
          "name": "stdout",
          "text": [
            "1/1 [==============================] - 0s 20ms/step\n",
            "Prediction:  5\n",
            "Label:  5\n"
          ]
        },
        {
          "output_type": "display_data",
          "data": {
            "text/plain": [
              "<Figure size 100x100 with 1 Axes>"
            ],
            "image/png": "[encoded data removed]"
          },
          "metadata": {}
        },
        {
          "output_type": "stream",
          "name": "stdout",
          "text": [
            "1/1 [==============================] - 0s 21ms/step\n",
            "Prediction:  2\n",
            "Label:  2\n"
          ]
        },
        {
          "output_type": "display_data",
          "data": {
            "text/plain": [
              "<Figure size 100x100 with 1 Axes>"
            ],
            "image/png": "[encoded data removed]"
          },
          "metadata": {}
        },
        {
          "output_type": "stream",
          "name": "stdout",
          "text": [
            "1/1 [==============================] - 0s 20ms/step\n",
            "Prediction:  0\n",
            "Label:  0\n"
          ]
        },
        {
          "output_type": "display_data",
          "data": {
            "text/plain": [
              "<Figure size 100x100 with 1 Axes>"
            ],
            "image/png": "[encoded data removed]"
          },
          "metadata": {}
        }
      ]
    },
    {
      "cell_type": "markdown",
      "source": [
        "#**Saving the model**"
      ],
      "metadata": {
        "id": "rLB2j4YoFN--"
      }
    },
    {
      "cell_type": "code",
      "source": [
        "model.save(\"drive/MyDrive/Models/Digit_Recog_model\")"
      ],
      "metadata": {
        "id": "VQSwIHOOGjNP"
      },
      "execution_count": 64,
      "outputs": []
    },
    {
      "cell_type": "code",
      "source": [
        "del model"
      ],
      "metadata": {
        "id": "-VowlAuyFI88"
      },
      "execution_count": 65,
      "outputs": []
    },
    {
      "cell_type": "code",
      "source": [
        "model = load_model(\"drive/MyDrive/Models/Digit_Recog_model\")"
      ],
      "metadata": {
        "id": "YJV-6Rl1RcO_"
      },
      "execution_count": 66,
      "outputs": []
    }
  ]
}